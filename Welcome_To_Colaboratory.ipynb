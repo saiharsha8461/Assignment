{
  "nbformat": 4,
  "nbformat_minor": 0,
  "metadata": {
    "colab": {
      "name": "Welcome To Colaboratory",
      "provenance": [],
      "collapsed_sections": [],
      "toc_visible": true,
      "include_colab_link": true
    },
    "kernelspec": {
      "display_name": "Python 3",
      "name": "python3"
    }
  },
  "cells": [
    {
      "cell_type": "markdown",
      "metadata": {
        "id": "view-in-github",
        "colab_type": "text"
      },
      "source": [
        "<a href=\"https://colab.research.google.com/github/saiharsha8461/Assignment/blob/master/Welcome_To_Colaboratory.ipynb\" target=\"_parent\"><img src=\"https://colab.research.google.com/assets/colab-badge.svg\" alt=\"Open In Colab\"/></a>"
      ]
    },
    {
      "cell_type": "markdown",
      "metadata": {
        "colab_type": "text",
        "id": "5fCEDCU_qrC0"
      },
      "source": [
        "<p><img alt=\"Colaboratory logo\" height=\"45px\" src=\"/img/colab_favicon.ico\" align=\"left\" hspace=\"10px\" vspace=\"0px\"></p>\n",
        "\n",
        "<h1>What is Colaboratory?</h1>\n",
        "\n",
        "Colaboratory, or \"Colab\" for short, allows you to write and execute Python in your browser, with \n",
        "- Zero configuration required\n",
        "- Free access to GPUs\n",
        "- Easy sharing\n",
        "\n",
        "Whether you're a **student**, a **data scientist** or an **AI researcher**, Colab can make your work easier. Watch [Introduction to Colab](https://www.youtube.com/watch?v=inN8seMm7UI) to learn more, or just get started below!"
      ]
    },
    {
      "cell_type": "markdown",
      "metadata": {
        "id": "AHtKN6BvYEdF",
        "colab_type": "text"
      },
      "source": [
        "day 3 session exercise"
      ]
    },
    {
      "cell_type": "code",
      "metadata": {
        "id": "VLgVbUU4ZHd8",
        "colab_type": "code",
        "colab": {
          "base_uri": "https://localhost:8080/",
          "height": 302
        },
        "outputId": "9bbb6d85-d1fd-4d7e-e951-6eb005e21aec"
      },
      "source": [
        "l=[]\n",
        "for val in range(0,1001):\n",
        "  if val > 1: \n",
        "        for n in range(2, val//2 + 2): \n",
        "            if (val % n) == 0: \n",
        "                break\n",
        "            else: \n",
        "                if n == val//2 + 1: \n",
        "                    l.append(val)\n",
        "s = pd.Series(data = l)\n",
        "print(\"Original Data Series:\")\n",
        "print(s)\n",
        "print(\"Mean of the said Data Series:\")\n",
        "print(s.mean())\n",
        "print(\"Standard deviation of the said Data Series:\")\n",
        "print(s.std())"
      ],
      "execution_count": 9,
      "outputs": [
        {
          "output_type": "stream",
          "text": [
            "Original Data Series:\n",
            "0        3\n",
            "1        5\n",
            "2        7\n",
            "3       11\n",
            "4       13\n",
            "      ... \n",
            "162    971\n",
            "163    977\n",
            "164    983\n",
            "165    991\n",
            "166    997\n",
            "Length: 167, dtype: int64\n",
            "Mean of the said Data Series:\n",
            "455.8383233532934\n",
            "Standard deviation of the said Data Series:\n",
            "297.0201672063572\n"
          ],
          "name": "stdout"
        }
      ]
    },
    {
      "cell_type": "code",
      "metadata": {
        "id": "lA2V-tvRZDWx",
        "colab_type": "code",
        "colab": {
          "base_uri": "https://localhost:8080/",
          "height": 739
        },
        "outputId": "3bd978a1-0f68-4127-a9b8-e309e5a38955"
      },
      "source": [
        "import pandas as pd\n",
        "l1=([i for i in range(0,1001) if i%10==0])\n",
        "s = pd.Series(l1)\n",
        "print(\"Original Data Series:\")\n",
        "print(s)\n",
        "print(\"\\nSubset of the above Data Series:\")\n",
        "n=7\n",
        "new_s = s[s%n==0]\n",
        "print(new_s)\n",
        "n=5\n",
        "new_s = s[s%n==0]\n",
        "print(new_s)"
      ],
      "execution_count": 8,
      "outputs": [
        {
          "output_type": "stream",
          "text": [
            "Original Data Series:\n",
            "0         0\n",
            "1        10\n",
            "2        20\n",
            "3        30\n",
            "4        40\n",
            "       ... \n",
            "96      960\n",
            "97      970\n",
            "98      980\n",
            "99      990\n",
            "100    1000\n",
            "Length: 101, dtype: int64\n",
            "\n",
            "Subset of the above Data Series:\n",
            "0       0\n",
            "7      70\n",
            "14    140\n",
            "21    210\n",
            "28    280\n",
            "35    350\n",
            "42    420\n",
            "49    490\n",
            "56    560\n",
            "63    630\n",
            "70    700\n",
            "77    770\n",
            "84    840\n",
            "91    910\n",
            "98    980\n",
            "dtype: int64\n",
            "0         0\n",
            "1        10\n",
            "2        20\n",
            "3        30\n",
            "4        40\n",
            "       ... \n",
            "96      960\n",
            "97      970\n",
            "98      980\n",
            "99      990\n",
            "100    1000\n",
            "Length: 101, dtype: int64\n"
          ],
          "name": "stdout"
        }
      ]
    },
    {
      "cell_type": "code",
      "metadata": {
        "id": "DLsRLNfKY_w3",
        "colab_type": "code",
        "colab": {
          "base_uri": "https://localhost:8080/",
          "height": 437
        },
        "outputId": "a91a622f-6fc0-4de4-9ba5-f4bfae1c7b63"
      },
      "source": [
        "import pandas as pd\n",
        "s = pd.Series(['100', '200', '300','400','500','python', '300.12', '400','is','great','language'])\n",
        "print(\"Original Data Series:\")\n",
        "print(s)\n",
        "new_s = pd.Series(s).sort_values()\n",
        "print(new_s)"
      ],
      "execution_count": 7,
      "outputs": [
        {
          "output_type": "stream",
          "text": [
            "Original Data Series:\n",
            "0          100\n",
            "1          200\n",
            "2          300\n",
            "3          400\n",
            "4          500\n",
            "5       python\n",
            "6       300.12\n",
            "7          400\n",
            "8           is\n",
            "9        great\n",
            "10    language\n",
            "dtype: object\n",
            "0          100\n",
            "1          200\n",
            "2          300\n",
            "6       300.12\n",
            "3          400\n",
            "7          400\n",
            "4          500\n",
            "9        great\n",
            "8           is\n",
            "10    language\n",
            "5       python\n",
            "dtype: object\n"
          ],
          "name": "stdout"
        }
      ]
    },
    {
      "cell_type": "code",
      "metadata": {
        "id": "gQPTBqxfY7Y6",
        "colab_type": "code",
        "colab": {
          "base_uri": "https://localhost:8080/",
          "height": 286
        },
        "outputId": "2166d91c-2ab0-4d90-a965-9d9e69822c63"
      },
      "source": [
        "import numpy as np\n",
        "s1 = pd.Series(['100', '200', '300','400','500','python', '300.12', '400','is','great','language'])\n",
        "print(\"Original Data Series:\")\n",
        "print(s1)\n",
        "print(\"Series to an array\")\n",
        "a = np.array(s1.values.tolist())\n",
        "print (a)"
      ],
      "execution_count": 6,
      "outputs": [
        {
          "output_type": "stream",
          "text": [
            "Original Data Series:\n",
            "0          100\n",
            "1          200\n",
            "2          300\n",
            "3          400\n",
            "4          500\n",
            "5       python\n",
            "6       300.12\n",
            "7          400\n",
            "8           is\n",
            "9        great\n",
            "10    language\n",
            "dtype: object\n",
            "Series to an array\n",
            "['100' '200' '300' '400' '500' 'python' '300.12' '400' 'is' 'great'\n",
            " 'language']\n"
          ],
          "name": "stdout"
        }
      ]
    },
    {
      "cell_type": "code",
      "metadata": {
        "id": "7T-Q3e8qY3Ky",
        "colab_type": "code",
        "colab": {
          "base_uri": "https://localhost:8080/",
          "height": 386
        },
        "outputId": "3a7bf4ea-2b3e-47a5-912a-eeb8287c843b"
      },
      "source": [
        "import numpy as np\n",
        "import pandas as pd\n",
        "l1=([i for i in range(0,1001) if i%10==0])\n",
        "np_array = np.array(l1)\n",
        "print(\"NumPy array:\")\n",
        "print(np_array)\n",
        "new_series = pd.Series(np_array)\n",
        "print(\"Converted Pandas series:\")\n",
        "print(new_series)"
      ],
      "execution_count": 5,
      "outputs": [
        {
          "output_type": "stream",
          "text": [
            "NumPy array:\n",
            "[   0   10   20   30   40   50   60   70   80   90  100  110  120  130\n",
            "  140  150  160  170  180  190  200  210  220  230  240  250  260  270\n",
            "  280  290  300  310  320  330  340  350  360  370  380  390  400  410\n",
            "  420  430  440  450  460  470  480  490  500  510  520  530  540  550\n",
            "  560  570  580  590  600  610  620  630  640  650  660  670  680  690\n",
            "  700  710  720  730  740  750  760  770  780  790  800  810  820  830\n",
            "  840  850  860  870  880  890  900  910  920  930  940  950  960  970\n",
            "  980  990 1000]\n",
            "Converted Pandas series:\n",
            "0         0\n",
            "1        10\n",
            "2        20\n",
            "3        30\n",
            "4        40\n",
            "       ... \n",
            "96      960\n",
            "97      970\n",
            "98      980\n",
            "99      990\n",
            "100    1000\n",
            "Length: 101, dtype: int64\n"
          ],
          "name": "stdout"
        }
      ]
    },
    {
      "cell_type": "code",
      "metadata": {
        "id": "coUeJ6sZYusp",
        "colab_type": "code",
        "colab": {
          "base_uri": "https://localhost:8080/",
          "height": 1000
        },
        "outputId": "f5562095-3cd3-466c-9b16-09f27c36f3f3"
      },
      "source": [
        "import pandas as pd\n",
        "l1=([i for i in range(0,1000) if i%7==0])\n",
        "d1 = pd.Series(l1)\n",
        "l2=([i for i in range(0,1000) if i%11==0])\n",
        "d2 = pd.Series(l2)\n",
        "print(\"Compare the elements of the said Series:\")\n",
        "print(\"Equals:\")\n",
        "for i in range (len(l2)):\n",
        "  print(i,\" \",d1[i]==d2[i])\n",
        "print(\"Greater than:\")\n",
        "for i in range(len(l2)):\n",
        "  print(i,\" \",d1[i]>d2[i])\n",
        "print(\"Less than:\")\n",
        "for i in range(len(l2)):\n",
        "  print(i,\" \",d1[i]<d2[i])"
      ],
      "execution_count": 4,
      "outputs": [
        {
          "output_type": "stream",
          "text": [
            "Compare the elements of the said Series:\n",
            "Equals:\n",
            "0   True\n",
            "1   False\n",
            "2   False\n",
            "3   False\n",
            "4   False\n",
            "5   False\n",
            "6   False\n",
            "7   False\n",
            "8   False\n",
            "9   False\n",
            "10   False\n",
            "11   False\n",
            "12   False\n",
            "13   False\n",
            "14   False\n",
            "15   False\n",
            "16   False\n",
            "17   False\n",
            "18   False\n",
            "19   False\n",
            "20   False\n",
            "21   False\n",
            "22   False\n",
            "23   False\n",
            "24   False\n",
            "25   False\n",
            "26   False\n",
            "27   False\n",
            "28   False\n",
            "29   False\n",
            "30   False\n",
            "31   False\n",
            "32   False\n",
            "33   False\n",
            "34   False\n",
            "35   False\n",
            "36   False\n",
            "37   False\n",
            "38   False\n",
            "39   False\n",
            "40   False\n",
            "41   False\n",
            "42   False\n",
            "43   False\n",
            "44   False\n",
            "45   False\n",
            "46   False\n",
            "47   False\n",
            "48   False\n",
            "49   False\n",
            "50   False\n",
            "51   False\n",
            "52   False\n",
            "53   False\n",
            "54   False\n",
            "55   False\n",
            "56   False\n",
            "57   False\n",
            "58   False\n",
            "59   False\n",
            "60   False\n",
            "61   False\n",
            "62   False\n",
            "63   False\n",
            "64   False\n",
            "65   False\n",
            "66   False\n",
            "67   False\n",
            "68   False\n",
            "69   False\n",
            "70   False\n",
            "71   False\n",
            "72   False\n",
            "73   False\n",
            "74   False\n",
            "75   False\n",
            "76   False\n",
            "77   False\n",
            "78   False\n",
            "79   False\n",
            "80   False\n",
            "81   False\n",
            "82   False\n",
            "83   False\n",
            "84   False\n",
            "85   False\n",
            "86   False\n",
            "87   False\n",
            "88   False\n",
            "89   False\n",
            "90   False\n",
            "Greater than:\n",
            "0   False\n",
            "1   False\n",
            "2   False\n",
            "3   False\n",
            "4   False\n",
            "5   False\n",
            "6   False\n",
            "7   False\n",
            "8   False\n",
            "9   False\n",
            "10   False\n",
            "11   False\n",
            "12   False\n",
            "13   False\n",
            "14   False\n",
            "15   False\n",
            "16   False\n",
            "17   False\n",
            "18   False\n",
            "19   False\n",
            "20   False\n",
            "21   False\n",
            "22   False\n",
            "23   False\n",
            "24   False\n",
            "25   False\n",
            "26   False\n",
            "27   False\n",
            "28   False\n",
            "29   False\n",
            "30   False\n",
            "31   False\n",
            "32   False\n",
            "33   False\n",
            "34   False\n",
            "35   False\n",
            "36   False\n",
            "37   False\n",
            "38   False\n",
            "39   False\n",
            "40   False\n",
            "41   False\n",
            "42   False\n",
            "43   False\n",
            "44   False\n",
            "45   False\n",
            "46   False\n",
            "47   False\n",
            "48   False\n",
            "49   False\n",
            "50   False\n",
            "51   False\n",
            "52   False\n",
            "53   False\n",
            "54   False\n",
            "55   False\n",
            "56   False\n",
            "57   False\n",
            "58   False\n",
            "59   False\n",
            "60   False\n",
            "61   False\n",
            "62   False\n",
            "63   False\n",
            "64   False\n",
            "65   False\n",
            "66   False\n",
            "67   False\n",
            "68   False\n",
            "69   False\n",
            "70   False\n",
            "71   False\n",
            "72   False\n",
            "73   False\n",
            "74   False\n",
            "75   False\n",
            "76   False\n",
            "77   False\n",
            "78   False\n",
            "79   False\n",
            "80   False\n",
            "81   False\n",
            "82   False\n",
            "83   False\n",
            "84   False\n",
            "85   False\n",
            "86   False\n",
            "87   False\n",
            "88   False\n",
            "89   False\n",
            "90   False\n",
            "Less than:\n",
            "0   False\n",
            "1   True\n",
            "2   True\n",
            "3   True\n",
            "4   True\n",
            "5   True\n",
            "6   True\n",
            "7   True\n",
            "8   True\n",
            "9   True\n",
            "10   True\n",
            "11   True\n",
            "12   True\n",
            "13   True\n",
            "14   True\n",
            "15   True\n",
            "16   True\n",
            "17   True\n",
            "18   True\n",
            "19   True\n",
            "20   True\n",
            "21   True\n",
            "22   True\n",
            "23   True\n",
            "24   True\n",
            "25   True\n",
            "26   True\n",
            "27   True\n",
            "28   True\n",
            "29   True\n",
            "30   True\n",
            "31   True\n",
            "32   True\n",
            "33   True\n",
            "34   True\n",
            "35   True\n",
            "36   True\n",
            "37   True\n",
            "38   True\n",
            "39   True\n",
            "40   True\n",
            "41   True\n",
            "42   True\n",
            "43   True\n",
            "44   True\n",
            "45   True\n",
            "46   True\n",
            "47   True\n",
            "48   True\n",
            "49   True\n",
            "50   True\n",
            "51   True\n",
            "52   True\n",
            "53   True\n",
            "54   True\n",
            "55   True\n",
            "56   True\n",
            "57   True\n",
            "58   True\n",
            "59   True\n",
            "60   True\n",
            "61   True\n",
            "62   True\n",
            "63   True\n",
            "64   True\n",
            "65   True\n",
            "66   True\n",
            "67   True\n",
            "68   True\n",
            "69   True\n",
            "70   True\n",
            "71   True\n",
            "72   True\n",
            "73   True\n",
            "74   True\n",
            "75   True\n",
            "76   True\n",
            "77   True\n",
            "78   True\n",
            "79   True\n",
            "80   True\n",
            "81   True\n",
            "82   True\n",
            "83   True\n",
            "84   True\n",
            "85   True\n",
            "86   True\n",
            "87   True\n",
            "88   True\n",
            "89   True\n",
            "90   True\n"
          ],
          "name": "stdout"
        }
      ]
    },
    {
      "cell_type": "code",
      "metadata": {
        "id": "J2VOqJQKYpqB",
        "colab_type": "code",
        "colab": {
          "base_uri": "https://localhost:8080/",
          "height": 1000
        },
        "outputId": "6afada7a-821c-4c97-c322-bb506c8c8d12"
      },
      "source": [
        "import pandas as pd\n",
        "l1=([i for i in range(0,101) if i%2==0])\n",
        "ds1 = pd.Series(l1)\n",
        "l2=([i for i in range(0,100) if i%2!=0])\n",
        "ds2 = pd.Series(l2)\n",
        "ds = ds1 + ds2\n",
        "print(\"Add two Series:\")\n",
        "print(ds)\n",
        "print(\"Subtract two Series:\")\n",
        "ds = ds1 - ds2\n",
        "print(ds)\n",
        "print(\"Multiply two Series:\")\n",
        "ds = ds1 * ds2\n",
        "print(ds)\n",
        "print(\"Divide Series1 by Series2:\")\n",
        "ds = ds1 / ds2\n",
        "print(ds)"
      ],
      "execution_count": 3,
      "outputs": [
        {
          "output_type": "stream",
          "text": [
            "Add two Series:\n",
            "0       1.0\n",
            "1       5.0\n",
            "2       9.0\n",
            "3      13.0\n",
            "4      17.0\n",
            "5      21.0\n",
            "6      25.0\n",
            "7      29.0\n",
            "8      33.0\n",
            "9      37.0\n",
            "10     41.0\n",
            "11     45.0\n",
            "12     49.0\n",
            "13     53.0\n",
            "14     57.0\n",
            "15     61.0\n",
            "16     65.0\n",
            "17     69.0\n",
            "18     73.0\n",
            "19     77.0\n",
            "20     81.0\n",
            "21     85.0\n",
            "22     89.0\n",
            "23     93.0\n",
            "24     97.0\n",
            "25    101.0\n",
            "26    105.0\n",
            "27    109.0\n",
            "28    113.0\n",
            "29    117.0\n",
            "30    121.0\n",
            "31    125.0\n",
            "32    129.0\n",
            "33    133.0\n",
            "34    137.0\n",
            "35    141.0\n",
            "36    145.0\n",
            "37    149.0\n",
            "38    153.0\n",
            "39    157.0\n",
            "40    161.0\n",
            "41    165.0\n",
            "42    169.0\n",
            "43    173.0\n",
            "44    177.0\n",
            "45    181.0\n",
            "46    185.0\n",
            "47    189.0\n",
            "48    193.0\n",
            "49    197.0\n",
            "50      NaN\n",
            "dtype: float64\n",
            "Subtract two Series:\n",
            "0    -1.0\n",
            "1    -1.0\n",
            "2    -1.0\n",
            "3    -1.0\n",
            "4    -1.0\n",
            "5    -1.0\n",
            "6    -1.0\n",
            "7    -1.0\n",
            "8    -1.0\n",
            "9    -1.0\n",
            "10   -1.0\n",
            "11   -1.0\n",
            "12   -1.0\n",
            "13   -1.0\n",
            "14   -1.0\n",
            "15   -1.0\n",
            "16   -1.0\n",
            "17   -1.0\n",
            "18   -1.0\n",
            "19   -1.0\n",
            "20   -1.0\n",
            "21   -1.0\n",
            "22   -1.0\n",
            "23   -1.0\n",
            "24   -1.0\n",
            "25   -1.0\n",
            "26   -1.0\n",
            "27   -1.0\n",
            "28   -1.0\n",
            "29   -1.0\n",
            "30   -1.0\n",
            "31   -1.0\n",
            "32   -1.0\n",
            "33   -1.0\n",
            "34   -1.0\n",
            "35   -1.0\n",
            "36   -1.0\n",
            "37   -1.0\n",
            "38   -1.0\n",
            "39   -1.0\n",
            "40   -1.0\n",
            "41   -1.0\n",
            "42   -1.0\n",
            "43   -1.0\n",
            "44   -1.0\n",
            "45   -1.0\n",
            "46   -1.0\n",
            "47   -1.0\n",
            "48   -1.0\n",
            "49   -1.0\n",
            "50    NaN\n",
            "dtype: float64\n",
            "Multiply two Series:\n",
            "0        0.0\n",
            "1        6.0\n",
            "2       20.0\n",
            "3       42.0\n",
            "4       72.0\n",
            "5      110.0\n",
            "6      156.0\n",
            "7      210.0\n",
            "8      272.0\n",
            "9      342.0\n",
            "10     420.0\n",
            "11     506.0\n",
            "12     600.0\n",
            "13     702.0\n",
            "14     812.0\n",
            "15     930.0\n",
            "16    1056.0\n",
            "17    1190.0\n",
            "18    1332.0\n",
            "19    1482.0\n",
            "20    1640.0\n",
            "21    1806.0\n",
            "22    1980.0\n",
            "23    2162.0\n",
            "24    2352.0\n",
            "25    2550.0\n",
            "26    2756.0\n",
            "27    2970.0\n",
            "28    3192.0\n",
            "29    3422.0\n",
            "30    3660.0\n",
            "31    3906.0\n",
            "32    4160.0\n",
            "33    4422.0\n",
            "34    4692.0\n",
            "35    4970.0\n",
            "36    5256.0\n",
            "37    5550.0\n",
            "38    5852.0\n",
            "39    6162.0\n",
            "40    6480.0\n",
            "41    6806.0\n",
            "42    7140.0\n",
            "43    7482.0\n",
            "44    7832.0\n",
            "45    8190.0\n",
            "46    8556.0\n",
            "47    8930.0\n",
            "48    9312.0\n",
            "49    9702.0\n",
            "50       NaN\n",
            "dtype: float64\n",
            "Divide Series1 by Series2:\n",
            "0     0.000000\n",
            "1     0.666667\n",
            "2     0.800000\n",
            "3     0.857143\n",
            "4     0.888889\n",
            "5     0.909091\n",
            "6     0.923077\n",
            "7     0.933333\n",
            "8     0.941176\n",
            "9     0.947368\n",
            "10    0.952381\n",
            "11    0.956522\n",
            "12    0.960000\n",
            "13    0.962963\n",
            "14    0.965517\n",
            "15    0.967742\n",
            "16    0.969697\n",
            "17    0.971429\n",
            "18    0.972973\n",
            "19    0.974359\n",
            "20    0.975610\n",
            "21    0.976744\n",
            "22    0.977778\n",
            "23    0.978723\n",
            "24    0.979592\n",
            "25    0.980392\n",
            "26    0.981132\n",
            "27    0.981818\n",
            "28    0.982456\n",
            "29    0.983051\n",
            "30    0.983607\n",
            "31    0.984127\n",
            "32    0.984615\n",
            "33    0.985075\n",
            "34    0.985507\n",
            "35    0.985915\n",
            "36    0.986301\n",
            "37    0.986667\n",
            "38    0.987013\n",
            "39    0.987342\n",
            "40    0.987654\n",
            "41    0.987952\n",
            "42    0.988235\n",
            "43    0.988506\n",
            "44    0.988764\n",
            "45    0.989011\n",
            "46    0.989247\n",
            "47    0.989474\n",
            "48    0.989691\n",
            "49    0.989899\n",
            "50         NaN\n",
            "dtype: float64\n"
          ],
          "name": "stdout"
        }
      ]
    },
    {
      "cell_type": "code",
      "metadata": {
        "id": "FCcIFTUGYj7i",
        "colab_type": "code",
        "colab": {
          "base_uri": "https://localhost:8080/",
          "height": 218
        },
        "outputId": "ec98c833-d23d-4a41-a819-9cc9d39daaa1"
      },
      "source": [
        "import pandas as pd\n",
        "l=([i for i in range(1000,20000) if i%5==0])\n",
        "ds = pd.Series(l) \n",
        "print(ds)"
      ],
      "execution_count": 2,
      "outputs": [
        {
          "output_type": "stream",
          "text": [
            "0        1000\n",
            "1        1005\n",
            "2        1010\n",
            "3        1015\n",
            "4        1020\n",
            "        ...  \n",
            "3795    19975\n",
            "3796    19980\n",
            "3797    19985\n",
            "3798    19990\n",
            "3799    19995\n",
            "Length: 3800, dtype: int64\n"
          ],
          "name": "stdout"
        }
      ]
    },
    {
      "cell_type": "code",
      "metadata": {
        "id": "Dmj7h1qqYJlV",
        "colab_type": "code",
        "colab": {
          "base_uri": "https://localhost:8080/",
          "height": 218
        },
        "outputId": "725a75e3-20e8-4745-ef53-8b7cf34517a4"
      },
      "source": [
        "import pandas as pd\n",
        "l=([i for i in range(0,10000) if i%2==0])\n",
        "ds = pd.Series(l) \n",
        "print(ds)"
      ],
      "execution_count": 1,
      "outputs": [
        {
          "output_type": "stream",
          "text": [
            "0          0\n",
            "1          2\n",
            "2          4\n",
            "3          6\n",
            "4          8\n",
            "        ... \n",
            "4995    9990\n",
            "4996    9992\n",
            "4997    9994\n",
            "4998    9996\n",
            "4999    9998\n",
            "Length: 5000, dtype: int64\n"
          ],
          "name": "stdout"
        }
      ]
    },
    {
      "cell_type": "code",
      "metadata": {
        "id": "BkG4z7JabthF",
        "colab_type": "code",
        "colab": {
          "base_uri": "https://localhost:8080/",
          "height": 1000
        },
        "outputId": "af899206-44fe-4607-a4de-d6a0d372b33f"
      },
      "source": [
        "loop = 1 \n",
        "choice = 0 \n",
        "\n",
        "def oddoreven(a):\n",
        "  if(a%2==0):\n",
        "    print(\"even\")\n",
        "  else:\n",
        "    print(\"odd\") \n",
        "def fact(num):\n",
        "  factorial=1\n",
        "  if num < 0:\n",
        "     print(\"Sorry, factorial does not exist for negative numbers\")\n",
        "  elif num == 0:\n",
        "     print(\"The factorial of 0 is 1\")\n",
        "  else:\n",
        "     for i in range(1,num + 1):\n",
        "         factorial = factorial*i\n",
        "     print(\"The factorial of\",num,\"is\",factorial)\n",
        "def odd(n):\n",
        "   print(\"odd numbers: \");\n",
        "   for i in range(1,n+1):\n",
        "      if(i%2!=0):\n",
        "        print(i)\n",
        "def prime(l,h):\n",
        "  print(\"prime numbers: \")\n",
        "  for num in range(l,h + 1):  \n",
        "   if num > 1:  \n",
        "       for i in range(2,num):  \n",
        "           if (num % i) == 0:  \n",
        "               break  \n",
        "       else:  \n",
        "           print(num)  \n",
        "\n",
        "while loop == 1:\n",
        "  print (\"Welcome\")\n",
        "  print (\"your options are:\")\n",
        "  print (\"\")\n",
        "  print(\"1) odd or even\")\n",
        "  print(\"2) factorial\")\n",
        "  print(\"3) odd upto n\")\n",
        "  print(\"4) prime upto n\")\n",
        "  print(\"5) Quit \")\n",
        "  print(\"\")\n",
        "  try:\n",
        "    choice = int(input(\"Choose your option: \"))\n",
        "  except:\n",
        "     print('please enter a valid number for option')\n",
        "     print(\"\")\n",
        "  print(\"\")\n",
        "  if choice == 1:\n",
        "       x = int(input(\" Enter  no: \"))\n",
        "       oddoreven(x)\n",
        "\n",
        "  elif choice == 2:\n",
        "     x = int(input(\"Enter  no: \"))\n",
        "     fact(x)\n",
        "\n",
        "  elif choice == 3:\n",
        "      x = int(input(\"Enter range: \"))\n",
        "      odd(x)\n",
        "\n",
        "  elif choice == 4:\n",
        "       x = int(input(\"Enter lower range: \"))\n",
        "       y = int(input(\"Enter upper range: \"))\n",
        "       prime(x,y)\n",
        "\n",
        "  elif choice == 5:\n",
        "      loop = 0\n",
        "\n",
        "  else:\n",
        "       print(\"please choice a valid option from 1 to 5\")\n",
        "       choice=0\n",
        "print (\"Thank-you \")\n"
      ],
      "execution_count": null,
      "outputs": [
        {
          "output_type": "stream",
          "text": [
            "Welcome\n",
            "your options are:\n",
            "\n",
            "1) odd or even\n",
            "2) factorial\n",
            "3) odd upto n\n",
            "4) prime upto n\n",
            "5) Quit \n",
            "\n",
            "Choose your option: 1\n",
            "\n",
            " Enter  no: 6\n",
            "even\n",
            "Welcome\n",
            "your options are:\n",
            "\n",
            "1) odd or even\n",
            "2) factorial\n",
            "3) odd upto n\n",
            "4) prime upto n\n",
            "5) Quit \n",
            "\n",
            "Choose your option: 2\n",
            "\n",
            "Enter  no: 36\n",
            "The factorial of 36 is 371993326789901217467999448150835200000000\n",
            "Welcome\n",
            "your options are:\n",
            "\n",
            "1) odd or even\n",
            "2) factorial\n",
            "3) odd upto n\n",
            "4) prime upto n\n",
            "5) Quit \n",
            "\n",
            "Choose your option: 3\n",
            "\n",
            "Enter range: 65\n",
            "odd numbers: \n",
            "1\n",
            "3\n",
            "5\n",
            "7\n",
            "9\n",
            "11\n",
            "13\n",
            "15\n",
            "17\n",
            "19\n",
            "21\n",
            "23\n",
            "25\n",
            "27\n",
            "29\n",
            "31\n",
            "33\n",
            "35\n",
            "37\n",
            "39\n",
            "41\n",
            "43\n",
            "45\n",
            "47\n",
            "49\n",
            "51\n",
            "53\n",
            "55\n",
            "57\n",
            "59\n",
            "61\n",
            "63\n",
            "65\n",
            "Welcome\n",
            "your options are:\n",
            "\n",
            "1) odd or even\n",
            "2) factorial\n",
            "3) odd upto n\n",
            "4) prime upto n\n",
            "5) Quit \n",
            "\n",
            "Choose your option: 4\n",
            "\n",
            "Enter lower range: 45\n",
            "Enter upper range: 64\n",
            "prime numbers: \n",
            "47\n",
            "53\n",
            "59\n",
            "61\n",
            "Welcome\n",
            "your options are:\n",
            "\n",
            "1) odd or even\n",
            "2) factorial\n",
            "3) odd upto n\n",
            "4) prime upto n\n",
            "5) Quit \n",
            "\n",
            "Choose your option: 5\n",
            "\n",
            "Thank-you \n"
          ],
          "name": "stdout"
        }
      ]
    },
    {
      "cell_type": "code",
      "metadata": {
        "id": "q61iVV0Qbiqp",
        "colab_type": "code",
        "colab": {
          "base_uri": "https://localhost:8080/",
          "height": 118
        },
        "outputId": "8ebaa708-8c46-4440-b497-d9e704086401"
      },
      "source": [
        "a=int(input(\"enter 1st num: \"))\n",
        "b=int(input(\"enter 2nd num: \"))\n",
        "c=int(input(\"enter 3rd num: \"))\n",
        "d=int(input(\"enter 4th num: \"))\n",
        "print(\"greater num is : \")\n",
        "if(a>b and a>c and a>d):\n",
        "  print(a)\n",
        "elif(b>c and b>d):\n",
        "  print(b)\n",
        "elif(c>d):\n",
        "  print(c)\n",
        "else:\n",
        "  print(d)"
      ],
      "execution_count": null,
      "outputs": [
        {
          "output_type": "stream",
          "text": [
            "enter 1st num: 3\n",
            "enter 2nd num: 4\n",
            "enter 3rd num: 5\n",
            "enter 4th num: 6\n",
            "greater num is : \n",
            "6\n"
          ],
          "name": "stdout"
        }
      ]
    },
    {
      "cell_type": "code",
      "metadata": {
        "id": "4YRHCED5bYPJ",
        "colab_type": "code",
        "colab": {
          "base_uri": "https://localhost:8080/",
          "height": 84
        },
        "outputId": "d6285ca2-afeb-40cd-c867-a9765abc46da"
      },
      "source": [
        "import math\n",
        "def Cylinder(r,h):\n",
        "  return 2*math.pi*r*r*h\n",
        "def cone(r,h):\n",
        "  return (1/3)*math.pi*r*r*h\n",
        "r=int(input(\"enter r value : \"))\n",
        "h=int(input(\"enter h value\"))\n",
        "print(\"surface area of cylinder is : %.2f\"%Cylinder(r,h))\n",
        "print(\"surface area of cone is : %.2f \"%cone(r,h))"
      ],
      "execution_count": null,
      "outputs": [
        {
          "output_type": "stream",
          "text": [
            "enter r value : 4\n",
            "enter h value7\n",
            "surface area of cylinder is : 703.72\n",
            "surface area of cone is : 117.29 \n"
          ],
          "name": "stdout"
        }
      ]
    },
    {
      "cell_type": "code",
      "metadata": {
        "id": "d65dYAvsbOZ9",
        "colab_type": "code",
        "colab": {
          "base_uri": "https://localhost:8080/",
          "height": 84
        },
        "outputId": "9f0dd031-140d-45e8-e4a1-fae0290a2976"
      },
      "source": [
        "a=int(input(\"enter a num : \"))\n",
        "b=int(input(\"enter a num : \"))\n",
        "print(\"greater num is : \")\n",
        "if(a>b):\n",
        "  print(a)\n",
        "else:\n",
        "  print(b)\n"
      ],
      "execution_count": null,
      "outputs": [
        {
          "output_type": "stream",
          "text": [
            "enter a num : 9\n",
            "enter a num : 8\n",
            "greater num is : \n",
            "9\n"
          ],
          "name": "stdout"
        }
      ]
    },
    {
      "cell_type": "code",
      "metadata": {
        "id": "qKaMgN3ga0vs",
        "colab_type": "code",
        "colab": {
          "base_uri": "https://localhost:8080/",
          "height": 50
        },
        "outputId": "764a2529-f968-4b9e-b3b6-47a96a9f2781"
      },
      "source": [
        "celsius = float(input(\"Enter temperature in celsius: \"))\n",
        "fahrenheit = (celsius * 9/5) + 32\n",
        "print('%.2f Celsius is: %0.2f Fahrenheit' %(celsius, fahrenheit))\n"
      ],
      "execution_count": null,
      "outputs": [
        {
          "output_type": "stream",
          "text": [
            "Enter temperature in celsius: 73.3\n",
            "73.30 Celsius is: 163.94 Fahrenheit\n"
          ],
          "name": "stdout"
        }
      ]
    },
    {
      "cell_type": "code",
      "metadata": {
        "id": "RyKPitkTXt0D",
        "colab_type": "code",
        "colab": {
          "base_uri": "https://localhost:8080/",
          "height": 84
        },
        "outputId": "043c9a77-fc53-4e2f-f2d8-2b2610b6bdf6"
      },
      "source": [
        "def compound_interest(principle, rate, time): \n",
        "    CI = principle * (pow((1 + rate / 100), time)) \n",
        "    print(\"Compound interest is\", CI) \n",
        "p=int(input(\"enter p value: \"))\n",
        "n=int(input(\"enter n value: \"))\n",
        "r=float(input(\"enter r value: \"))\n",
        "compound_interest(p, r, n) "
      ],
      "execution_count": null,
      "outputs": [
        {
          "output_type": "stream",
          "text": [
            "enter p value: 8\n",
            "enter n value: 5\n",
            "enter r value: 6\n",
            "Compound interest is 10.705804620800002\n"
          ],
          "name": "stdout"
        }
      ]
    },
    {
      "cell_type": "code",
      "metadata": {
        "id": "QvE1LVGRXmgc",
        "colab_type": "code",
        "colab": {
          "base_uri": "https://localhost:8080/",
          "height": 34
        },
        "outputId": "f30834cb-90cc-4195-9382-8d7c601e3a42"
      },
      "source": [
        "def word_count(str):\n",
        "    counts = dict()\n",
        "    words = str.split()\n",
        "\n",
        "    for word in words:\n",
        "        if word in counts:\n",
        "            counts[word] += 1\n",
        "        else:\n",
        "            counts[word] = 1\n",
        "\n",
        "    return counts\n",
        "\n",
        "print( word_count('the quick brown fox jumps over the lazy dog.'))\n"
      ],
      "execution_count": null,
      "outputs": [
        {
          "output_type": "stream",
          "text": [
            "{'the': 2, 'quick': 1, 'brown': 1, 'fox': 1, 'jumps': 1, 'over': 1, 'lazy': 1, 'dog.': 1}\n"
          ],
          "name": "stdout"
        }
      ]
    },
    {
      "cell_type": "code",
      "metadata": {
        "id": "LzRfUV1yXYmb",
        "colab_type": "code",
        "colab": {
          "base_uri": "https://localhost:8080/",
          "height": 101
        },
        "outputId": "baecb66c-ce1f-45a8-daec-4c0da8f25204"
      },
      "source": [
        "string=input(\"Enter string:\")\n",
        "char=0\n",
        "word=1\n",
        "for i in string:\n",
        "      char=char+1\n",
        "      if(i==' '):\n",
        "            word=word+1\n",
        "print(\"Number of words in the string:\")\n",
        "print(word)\n",
        "print(\"Number of characters in the string:\")\n",
        "print(char)"
      ],
      "execution_count": null,
      "outputs": [
        {
          "output_type": "stream",
          "text": [
            "Enter string:harsha\n",
            "Number of words in the string:\n",
            "1\n",
            "Number of characters in the string:\n",
            "6\n"
          ],
          "name": "stdout"
        }
      ]
    },
    {
      "cell_type": "code",
      "metadata": {
        "id": "KxBFVR6iXN4O",
        "colab_type": "code",
        "colab": {
          "base_uri": "https://localhost:8080/",
          "height": 50
        },
        "outputId": "e3310278-c1f6-4cc0-957a-dce8d0c3e259"
      },
      "source": [
        "str = input(\"Enter a string: \")\n",
        "counter = 0\n",
        "for s in str:\n",
        "      counter = counter+1\n",
        "print(\"Length of the input string is:\", counter)\n",
        "\n"
      ],
      "execution_count": null,
      "outputs": [
        {
          "output_type": "stream",
          "text": [
            "Enter a string: mom\n",
            "Length of the input string is: 3\n"
          ],
          "name": "stdout"
        }
      ]
    },
    {
      "cell_type": "code",
      "metadata": {
        "id": "wYCmBrVuXHiF",
        "colab_type": "code",
        "colab": {
          "base_uri": "https://localhost:8080/",
          "height": 151
        },
        "outputId": "d98521a0-7dba-43d8-d42f-bdfdc0fe85a7"
      },
      "source": [
        "rows = 5\n",
        "n=rows-1\n",
        "for i in range(1, rows-1):\n",
        "    for j in range(i,rows):\n",
        "        print(j,end=\" \")\n",
        "    print()\n",
        "for i in range(n+1,0,-1):\n",
        "  for j in range(i,n+1):\n",
        "    print(j,end=\" \")\n",
        "  print()\n"
      ],
      "execution_count": null,
      "outputs": [
        {
          "output_type": "stream",
          "text": [
            "1 2 3 4 \n",
            "2 3 4 \n",
            "3 4 \n",
            "\n",
            "4 \n",
            "3 4 \n",
            "2 3 4 \n",
            "1 2 3 4 \n"
          ],
          "name": "stdout"
        }
      ]
    },
    {
      "cell_type": "code",
      "metadata": {
        "id": "oo7lSlnPW-pV",
        "colab_type": "code",
        "colab": {
          "base_uri": "https://localhost:8080/",
          "height": 185
        },
        "outputId": "140af565-e9d8-489a-ff8e-496604c62d89"
      },
      "source": [
        "rows = int(input(\"enter num : \"))\n",
        "for i in range(0, rows + 1):\n",
        "    for j in range(rows - i, 0, -1):\n",
        "        print(j, end=' ')\n",
        "    print()"
      ],
      "execution_count": null,
      "outputs": [
        {
          "output_type": "stream",
          "text": [
            "enter num : 8\n",
            "8 7 6 5 4 3 2 1 \n",
            "7 6 5 4 3 2 1 \n",
            "6 5 4 3 2 1 \n",
            "5 4 3 2 1 \n",
            "4 3 2 1 \n",
            "3 2 1 \n",
            "2 1 \n",
            "1 \n",
            "\n"
          ],
          "name": "stdout"
        }
      ]
    },
    {
      "cell_type": "code",
      "metadata": {
        "id": "4l03oOiqW04E",
        "colab_type": "code",
        "colab": {
          "base_uri": "https://localhost:8080/",
          "height": 84
        },
        "outputId": "9cc197f7-264b-4499-9d18-d38722f4b541"
      },
      "source": [
        "k=4\n",
        "n=int(input(\"enter n value: \"))\n",
        "for i in range(n+1,0,-1):\n",
        "  for j in range(i,n+1):\n",
        "    print(j,end=\" \")\n",
        "    \n",
        "    \n",
        "  print()\n"
      ],
      "execution_count": null,
      "outputs": [
        {
          "output_type": "stream",
          "text": [
            "enter n value: 2\n",
            "\n",
            "2 \n",
            "1 2 \n"
          ],
          "name": "stdout"
        }
      ]
    },
    {
      "cell_type": "code",
      "metadata": {
        "id": "h3wICgahWD69",
        "colab_type": "code",
        "colab": {
          "base_uri": "https://localhost:8080/",
          "height": 185
        },
        "outputId": "a9a034ce-88a8-4ecb-f5b3-6a9bc9358afc"
      },
      "source": [
        "#@title Default title text\n",
        "rows =int(input(\"enter num: \"))\n",
        "for i in range(0, rows):\n",
        "    for j in range(0, i + 1):\n",
        "        print(\"*\", end=' ')\n",
        "\n",
        "    print(\"\\r\")"
      ],
      "execution_count": null,
      "outputs": [
        {
          "output_type": "stream",
          "text": [
            "enter num: 9\n",
            "* \n",
            "* * \n",
            "* * * \n",
            "* * * * \n",
            "* * * * * \n",
            "* * * * * * \n",
            "* * * * * * * \n",
            "* * * * * * * * \n",
            "* * * * * * * * * \n"
          ],
          "name": "stdout"
        }
      ]
    },
    {
      "cell_type": "markdown",
      "metadata": {
        "id": "fmEAmTw0WvxV",
        "colab_type": "text"
      },
      "source": [
        "# New Section"
      ]
    },
    {
      "cell_type": "markdown",
      "metadata": {
        "colab_type": "text",
        "id": "GJBs_flRovLc"
      },
      "source": [
        "## **Getting started**\n",
        "\n",
        "The document you are reading is not a static web page, but an interactive environment called a **Colab notebook** that lets you write and execute code.\n",
        "\n",
        "For example, here is a **code cell** with a short Python script that computes a value, stores it in a variable, and prints the result:"
      ]
    },
    {
      "cell_type": "code",
      "metadata": {
        "id": "W8usXYp4VF2H",
        "colab_type": "code",
        "colab": {
          "base_uri": "https://localhost:8080/",
          "height": 118
        },
        "outputId": "672bf6e6-7cfb-499e-da8c-10b9efdcc272"
      },
      "source": [
        "k=1\n",
        "n=int(input(\"enter n value: \"))\n",
        "for i in range(0,n):\n",
        "  if(i>=2):\n",
        "    k=i+1\n",
        "  for j in range(0,i+1):\n",
        "    print(k,end=\" \")\n",
        "    k=k+1\n",
        "  print()"
      ],
      "execution_count": null,
      "outputs": [
        {
          "output_type": "stream",
          "text": [
            "enter n value: 5\n",
            "1 \n",
            "2 3 \n",
            "3 4 5 \n",
            "4 5 6 7 \n",
            "5 6 7 8 9 \n"
          ],
          "name": "stdout"
        }
      ]
    },
    {
      "cell_type": "code",
      "metadata": {
        "colab_type": "code",
        "id": "gJr_9dXGpJ05",
        "colab": {
          "base_uri": "https://localhost:8080/",
          "height": 34
        },
        "outputId": "9f556d03-ec67-4950-a485-cfdba9ddd14d"
      },
      "source": [
        "seconds_in_a_day = 24 * 60 * 60\n",
        "seconds_in_a_day"
      ],
      "execution_count": null,
      "outputs": [
        {
          "output_type": "execute_result",
          "data": {
            "text/plain": [
              "86400"
            ]
          },
          "metadata": {
            "tags": []
          },
          "execution_count": 0
        }
      ]
    },
    {
      "cell_type": "markdown",
      "metadata": {
        "colab_type": "text",
        "id": "2fhs6GZ4qFMx"
      },
      "source": [
        "To execute the code in the above cell, select it with a click and then either press the play button to the left of the code, or use the keyboard shortcut \"Command/Ctrl+Enter\". To edit the code, just click the cell and start editing.\n",
        "\n",
        "Variables that you define in one cell can later be used in other cells:"
      ]
    },
    {
      "cell_type": "code",
      "metadata": {
        "colab_type": "code",
        "id": "-gE-Ez1qtyIA",
        "colab": {
          "base_uri": "https://localhost:8080/",
          "height": 34
        },
        "outputId": "94cb2224-0edf-457b-90b5-0ac3488d8a97"
      },
      "source": [
        "seconds_in_a_week = 7 * seconds_in_a_day\n",
        "seconds_in_a_week"
      ],
      "execution_count": null,
      "outputs": [
        {
          "output_type": "execute_result",
          "data": {
            "text/plain": [
              "604800"
            ]
          },
          "metadata": {
            "tags": []
          },
          "execution_count": 0
        }
      ]
    },
    {
      "cell_type": "markdown",
      "metadata": {
        "colab_type": "text",
        "id": "lSrWNr3MuFUS"
      },
      "source": [
        "Colab notebooks allow you to combine **executable code** and **rich text** in a single document, along with **images**, **HTML**, **LaTeX** and more. When you create your own Colab notebooks, they are stored in your Google Drive account. You can easily share your Colab notebooks with co-workers or friends, allowing them to comment on your notebooks or even edit them. To learn more, see [Overview of Colab](/notebooks/basic_features_overview.ipynb). To create a new Colab notebook you can use the File menu above, or use the following link: [create a new Colab notebook](http://colab.research.google.com#create=true).\n",
        "\n",
        "Colab notebooks are Jupyter notebooks that are hosted by Colab. To learn more about the Jupyter project, see [jupyter.org](https://www.jupyter.org)."
      ]
    },
    {
      "cell_type": "markdown",
      "metadata": {
        "colab_type": "text",
        "id": "UdRyKR44dcNI"
      },
      "source": [
        "## Data science\n",
        "\n",
        "With Colab you can harness the full power of popular Python libraries to analyze and visualize data. The code cell below uses **numpy** to generate some random data, and uses **matplotlib** to visualize it. To edit the code, just click the cell and start editing."
      ]
    },
    {
      "cell_type": "code",
      "metadata": {
        "colab_type": "code",
        "id": "C4HZx7Gndbrh",
        "colab": {
          "base_uri": "https://localhost:8080/",
          "height": 281
        },
        "outputId": "46abc637-6abd-41b2-9bba-80a7ae992e06"
      },
      "source": [
        "import numpy as np\n",
        "from matplotlib import pyplot as plt\n",
        "\n",
        "ys = 200 + np.random.randn(100)\n",
        "x = [x for x in range(len(ys))]\n",
        "\n",
        "plt.plot(x, ys, '-')\n",
        "plt.fill_between(x, ys, 195, where=(ys > 195), facecolor='g', alpha=0.6)\n",
        "\n",
        "plt.title(\"Sample Visualization\")\n",
        "plt.show()"
      ],
      "execution_count": null,
      "outputs": [
        {
          "output_type": "display_data",
          "data": {
            "image/png": "[encoded data removed]",
            "text/plain": [
              "<Figure size 432x288 with 1 Axes>"
            ]
          },
          "metadata": {
            "tags": []
          }
        }
      ]
    },
    {
      "cell_type": "markdown",
      "metadata": {
        "colab_type": "text",
        "id": "4_kCnsPUqS6o"
      },
      "source": [
        "You can import your own data into Colab notebooks from your Google Drive account, including from spreadsheets, as well as from Github and many other sources. To learn more about importing data, and how Colab can be used for data science, see the links below under [Working with Data](#working-with-data)."
      ]
    },
    {
      "cell_type": "markdown",
      "metadata": {
        "colab_type": "text",
        "id": "OwuxHmxllTwN"
      },
      "source": [
        "## Machine learning\n",
        "\n",
        "With Colab you can import an image dataset, train an image classifier on it, and evaluate the model, all in just [a few lines of code](https://colab.research.google.com/github/tensorflow/docs/blob/master/site/en/tutorials/quickstart/beginner.ipynb). Colab notebooks execute code on Google's cloud servers, meaning you can leverage the power of Google hardware, including [GPUs and TPUs](#using-accelerated-hardware), regardless of the power of your machine. All you need is a browser."
      ]
    },
    {
      "cell_type": "markdown",
      "metadata": {
        "colab_type": "text",
        "id": "ufxBm1yRnruN"
      },
      "source": [
        "Colab is used extensively in the machine learning community with applications including:\n",
        "- Getting started with TensorFlow\n",
        "- Developing and training neural networks\n",
        "- Experimenting with TPUs\n",
        "- Disseminating AI research\n",
        "- Creating tutorials\n",
        "\n",
        "To see sample Colab notebooks that demonstrate machine learning applications, see the [machine learning examples](#machine-learning-examples) below."
      ]
    },
    {
      "cell_type": "markdown",
      "metadata": {
        "colab_type": "text",
        "id": "-Rh3-Vt9Nev9"
      },
      "source": [
        "## More Resources\n",
        "\n",
        "### Working with Notebooks in Colab\n",
        "- [Overview of Colaboratory](/notebooks/basic_features_overview.ipynb)\n",
        "- [Guide to Markdown](/notebooks/markdown_guide.ipynb)\n",
        "- [Importing libraries and installing dependencies](/notebooks/snippets/importing_libraries.ipynb)\n",
        "- [Saving and loading notebooks in GitHub](https://colab.research.google.com/github/googlecolab/colabtools/blob/master/notebooks/colab-github-demo.ipynb)\n",
        "- [Interactive forms](/notebooks/forms.ipynb)\n",
        "- [Interactive widgets](/notebooks/widgets.ipynb)\n",
        "- <img src=\"/img/new.png\" height=\"20px\" align=\"left\" hspace=\"4px\" alt=\"New\"></img>\n",
        " [TensorFlow 2 in Colab](/notebooks/tensorflow_version.ipynb)\n",
        "\n",
        "<a name=\"working-with-data\"></a>\n",
        "### Working with Data\n",
        "- [Loading data: Drive, Sheets, and Google Cloud Storage](/notebooks/io.ipynb) \n",
        "- [Charts: visualizing data](/notebooks/charts.ipynb)\n",
        "- [Getting started with BigQuery](/notebooks/bigquery.ipynb)\n",
        "\n",
        "### Machine Learning Crash Course\n",
        "These are a few of the notebooks from Google's online Machine Learning course. See the [full course website](https://developers.google.com/machine-learning/crash-course/) for more.\n",
        "- [Intro to Pandas](/notebooks/mlcc/intro_to_pandas.ipynb)\n",
        "- [Tensorflow concepts](/notebooks/mlcc/tensorflow_programming_concepts.ipynb)\n",
        "- [First steps with TensorFlow](/notebooks/mlcc/first_steps_with_tensor_flow.ipynb)\n",
        "- [Intro to neural nets](/notebooks/mlcc/intro_to_neural_nets.ipynb)\n",
        "- [Intro to sparse data and embeddings](/notebooks/mlcc/intro_to_sparse_data_and_embeddings.ipynb)\n",
        "\n",
        "<a name=\"using-accelerated-hardware\"></a>\n",
        "### Using Accelerated Hardware\n",
        "- [TensorFlow with GPUs](/notebooks/gpu.ipynb)\n",
        "- [TensorFlow with TPUs](/notebooks/tpu.ipynb)"
      ]
    },
    {
      "cell_type": "markdown",
      "metadata": {
        "colab_type": "text",
        "id": "P-H6Lw1vyNNd"
      },
      "source": [
        "<a name=\"machine-learning-examples\"></a>\n",
        "\n",
        "## Machine Learning Examples\n",
        "\n",
        "To see end-to-end examples of the interactive machine learning analyses that Colaboratory makes possible, check out these  tutorials using models from [TensorFlow Hub](https://tfhub.dev).\n",
        "\n",
        "A few featured examples:\n",
        "\n",
        "- [Retraining an Image Classifier](https://tensorflow.org/hub/tutorials/tf2_image_retraining): Build a Keras model on top of a pre-trained image classifier to distinguish flowers.\n",
        "- [Text Classification](https://tensorflow.org/hub/tutorials/tf2_text_classification): Classify IMDB movie reviews as either *positive* or *negative*.\n",
        "- [Style Transfer](https://tensorflow.org/hub/tutorials/tf2_arbitrary_image_stylization): Use deep learning to transfer style between images.\n",
        "- [Multilingual Universal Sentence Encoder Q&A](https://tensorflow.org/hub/tutorials/retrieval_with_tf_hub_universal_encoder_qa): Use a machine learning model to answer questions from the SQuAD dataset.\n",
        "- [Video Interpolation](https://tensorflow.org/hub/tutorials/tweening_conv3d): Predict what happened in a video between the first and the last frame.\n"
      ]
    },
    {
      "cell_type": "code",
      "metadata": {
        "id": "jCOD97GOVCZP",
        "colab_type": "code",
        "colab": {}
      },
      "source": [
        ""
      ],
      "execution_count": null,
      "outputs": []
    }
  ]
}